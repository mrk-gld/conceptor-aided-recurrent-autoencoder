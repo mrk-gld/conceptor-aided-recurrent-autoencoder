{
 "cells": [
  {
   "cell_type": "code",
   "execution_count": 1,
   "metadata": {},
   "outputs": [],
   "source": [
    "import os\n",
    "import jax.numpy as jnp\n",
    "\n",
    "from numpy import Inf, NaN\n",
    "import numpy as np\n",
    "\n",
    "from utils.rnn_utils import forward_rnn_interp\n",
    "from utils.mocap_utils import get_mocap_data\n",
    "\n",
    "from utils.video_processing import convert_motion_data_to_video\n",
    "from utils.skeleton import *\n",
    "import base64\n",
    "from IPython.display import HTML\n"
   ]
  },
  {
   "cell_type": "code",
   "execution_count": 2,
   "metadata": {},
   "outputs": [],
   "source": [
    "folder = \"motion_data_numpy/\"\n",
    "dataset_names = [\"walk_15\", \"run_55\"]\n",
    "_,_,mean,std = get_mocap_data(folder,dataset_names=dataset_names)"
   ]
  },
  {
   "cell_type": "code",
   "execution_count": 3,
   "metadata": {},
   "outputs": [
    {
     "name": "stderr",
     "output_type": "stream",
     "text": [
      "No GPU/TPU found, falling back to CPU. (Set TF_CPP_MIN_LOG_LEVEL=0 and rerun for more info.)\n"
     ]
    }
   ],
   "source": [
    "folder = './logs/mocap_conceptor_loss_1/'\n",
    "ckpt_path = os.path.join(folder, \"ckpt\")\n",
    "epoch = \"051\"\n",
    "params_file = f'params_{epoch}.npz'\n",
    "conceptor_file = f'conceptor_{epoch}.npz'\n",
    "\n",
    "params = np.load(os.path.join(ckpt_path,params_file), allow_pickle=True)\n",
    "params = dict(params)\n",
    "rnn_size = params['w'].shape[0]\n",
    "conceptors = np.load(os.path.join(ckpt_path,conceptor_file), allow_pickle=True)\n",
    "conceptors = dict(conceptors)\n",
    "c_matrix = [conceptors[f'C_{i+1}'] for i in range(len(conceptors))]\n",
    "\n",
    "len_seqs = 400\n",
    "lamdas = [0, 0.25, 0.5, 0.75, 1]\n",
    "\n",
    "states_lamda = []\n",
    "y_interp_lamda = []\n",
    "for lamda in lamdas:\n",
    "    lambda_t = jnp.ones(len_seqs) * lamda\n",
    "    x_interp, y_interp = forward_rnn_interp(\n",
    "        params, c_matrix, None, lambda_t=lambda_t)\n",
    "    \n",
    "    states_lamda.append(x_interp)\n",
    "    y_interp_lamda.append(y_interp)"
   ]
  },
  {
   "cell_type": "code",
   "execution_count": 4,
   "metadata": {},
   "outputs": [],
   "source": [
    "\n",
    "# load initial conditions\n",
    "data_ini_walk = np.load(\"motion_data_numpy/data_ini_walk.npy\")\n",
    "data_ini_walk = [[data_ini_walk[0], data_ini_walk[1]], [data_ini_walk[2]]]\n",
    "\n",
    "c_joints = np.load('motion_data_numpy/c_joint.npy', allow_pickle=True).item()\n",
    "norm_ij = np.load('motion_data_numpy/norm_ij.npy')\n",
    "\n",
    "files = convert_motion_data_to_video(folder, np.array(y_interp_lamda), mean,std, [f\"epoch_{epoch}_lambda_{l}\" for l in lamdas])"
   ]
  },
  {
   "cell_type": "code",
   "execution_count": 5,
   "metadata": {},
   "outputs": [
    {
     "data": {
      "text/html": [
       "\n",
       "    <h2>./logs/mocap_conceptor_loss_1/videos/epoch_051_lambda_0.mp4</h2>\n",
       "    <video width=\"320\" height=\"240\" controls>\n",
       "      <source src=\"./logs/mocap_conceptor_loss_1/videos/epoch_051_lambda_0.mp4\" type=\"video/mp4\">\n",
       "    </video>\n",
       "    \n",
       "    <h2>./logs/mocap_conceptor_loss_1/videos/epoch_051_lambda_0.25.mp4</h2>\n",
       "    <video width=\"320\" height=\"240\" controls>\n",
       "      <source src=\"./logs/mocap_conceptor_loss_1/videos/epoch_051_lambda_0.25.mp4\" type=\"video/mp4\">\n",
       "    </video>\n",
       "    \n",
       "    <h2>./logs/mocap_conceptor_loss_1/videos/epoch_051_lambda_0.5.mp4</h2>\n",
       "    <video width=\"320\" height=\"240\" controls>\n",
       "      <source src=\"./logs/mocap_conceptor_loss_1/videos/epoch_051_lambda_0.5.mp4\" type=\"video/mp4\">\n",
       "    </video>\n",
       "    \n",
       "    <h2>./logs/mocap_conceptor_loss_1/videos/epoch_051_lambda_0.75.mp4</h2>\n",
       "    <video width=\"320\" height=\"240\" controls>\n",
       "      <source src=\"./logs/mocap_conceptor_loss_1/videos/epoch_051_lambda_0.75.mp4\" type=\"video/mp4\">\n",
       "    </video>\n",
       "    \n",
       "    <h2>./logs/mocap_conceptor_loss_1/videos/epoch_051_lambda_1.mp4</h2>\n",
       "    <video width=\"320\" height=\"240\" controls>\n",
       "      <source src=\"./logs/mocap_conceptor_loss_1/videos/epoch_051_lambda_1.mp4\" type=\"video/mp4\">\n",
       "    </video>\n",
       "    "
      ],
      "text/plain": [
       "<IPython.core.display.HTML object>"
      ]
     },
     "metadata": {},
     "output_type": "display_data"
    }
   ],
   "source": [
    "from IPython.display import HTML\n",
    "\n",
    "width = 320\n",
    "height = 240\n",
    "\n",
    "html = \"\"\n",
    "for file in files:\n",
    "    html += \"\"\"\n",
    "    <h2>{2}</h2>\n",
    "    <video width=\"{0}\" height=\"{1}\" controls>\n",
    "      <source src=\"{2}\" type=\"video/mp4\">\n",
    "    </video>\n",
    "    \"\"\".format(width, height, file)\n",
    "\n",
    "display(HTML(html))"
   ]
  }
 ],
 "metadata": {
  "kernelspec": {
   "display_name": "base",
   "language": "python",
   "name": "python3"
  },
  "language_info": {
   "codemirror_mode": {
    "name": "ipython",
    "version": 3
   },
   "file_extension": ".py",
   "mimetype": "text/x-python",
   "name": "python",
   "nbconvert_exporter": "python",
   "pygments_lexer": "ipython3",
   "version": "3.9.13"
  },
  "orig_nbformat": 4
 },
 "nbformat": 4,
 "nbformat_minor": 2
}
