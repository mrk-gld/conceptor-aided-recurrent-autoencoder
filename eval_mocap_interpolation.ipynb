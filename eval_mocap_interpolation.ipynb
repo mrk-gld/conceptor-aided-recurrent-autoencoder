{
 "cells": [
  {
   "cell_type": "code",
   "execution_count": 1,
   "metadata": {},
   "outputs": [
    {
     "name": "stderr",
     "output_type": "stream",
     "text": [
      "/home/mirko/anaconda3/lib/python3.9/site-packages/jax/_src/api_util.py:172: SyntaxWarning: Jitted function has static_argnums=(4, 5, 9, 10), but only accepts 10 positional arguments. This warning will be replaced by an error after 2022-08-20 at the earliest.\n",
      "  warnings.warn(f\"Jitted function has {argnums_name}={argnums}, \"\n"
     ]
    }
   ],
   "source": [
    "import os\n",
    "from tqdm import tqdm\n",
    "from absl import flags, app\n",
    "\n",
    "import jax\n",
    "import jax.numpy as jnp\n",
    "from jax.example_libraries import optimizers as jax_opt\n",
    "\n",
    "from numpy import Inf, NaN\n",
    "import numpy as np\n",
    "\n",
    "from torch.utils.tensorboard import SummaryWriter\n",
    "\n",
    "from rnn_utils import update\n",
    "from rnn_utils import esn_params\n",
    "from rnn_utils import initialize_wout\n",
    "from rnn_utils import forward_esn_interp\n",
    "\n",
    "from utils import setup_logging_directory\n",
    "from utils import visualize_mocap_interpolation\n",
    "\n",
    "from mocap_utils import get_mocap_data"
   ]
  },
  {
   "cell_type": "code",
   "execution_count": 2,
   "metadata": {},
   "outputs": [],
   "source": [
    "folder = \"motion_data_numpy/\"\n",
    "dataset_names = [\"walk_15\", \"run_55\"]\n",
    "_,_,mean,std = get_mocap_data(folder,dataset_names=dataset_names)"
   ]
  },
  {
   "cell_type": "code",
   "execution_count": 3,
   "metadata": {},
   "outputs": [
    {
     "name": "stderr",
     "output_type": "stream",
     "text": [
      "No GPU/TPU found, falling back to CPU. (Set TF_CPP_MIN_LOG_LEVEL=0 and rerun for more info.)\n"
     ]
    }
   ],
   "source": [
    "folder = './logs/mocap_interp_3/ckpt'\n",
    "epoch = 3001\n",
    "rnn_size = 512\n",
    "params_file = f'params_{epoch}.npz'\n",
    "conceptor_file = f'conceptor_{epoch}.npz'\n",
    "\n",
    "params = np.load(os.path.join(folder,params_file), allow_pickle=True)\n",
    "params = dict(params)\n",
    "conceptors = np.load(os.path.join(folder,conceptor_file), allow_pickle=True)\n",
    "conceptors = dict(conceptors)\n",
    "c_matrix = [conceptors[f'C_{i+1}'] for i in range(len(conceptors))]\n",
    "\n",
    "len_seqs = 400\n",
    "lamdas = [0, 0.25, 0.5, 0.75, 1]\n",
    "\n",
    "states = []\n",
    "y_interp = []\n",
    "for lamda in lamdas:\n",
    "    t_interp = jnp.ones(len_seqs) * lamda\n",
    "    ut_interp = jnp.zeros(len_seqs)\n",
    "    yx_interpolation = forward_esn_interp(\n",
    "        params, c_matrix, ut_interp, None, t_interp=t_interp)\n",
    "\n",
    "    x_interpolation = yx_interpolation[:, -rnn_size:]\n",
    "    y_interpolation = yx_interpolation[:, :-rnn_size]\n",
    "    states.append(x_interpolation)\n",
    "    y_interp.append(y_interpolation)"
   ]
  },
  {
   "cell_type": "code",
   "execution_count": 4,
   "metadata": {},
   "outputs": [],
   "source": [
    "from video_processing import convert_motion_data_to_video\n",
    "from skeleton import *\n",
    "import base64\n",
    "from IPython.display import HTML\n",
    "\n",
    "# load initial conditions\n",
    "data_ini_walk = np.load(\"motion_data_numpy/data_ini_walk.npy\")\n",
    "data_ini_walk = [[data_ini_walk[0], data_ini_walk[1]], [data_ini_walk[2]]]\n",
    "\n",
    "c_joints = np.load('motion_data_numpy/c_joint.npy', allow_pickle=True).item()\n",
    "norm_ij = np.load('motion_data_numpy/norm_ij.npy')\n",
    "\n",
    "convert_motion_data_to_video(np.array(y_interp),mean,std,[f\"interpolation_at_lambda_{l}\" for l in lamdas])"
   ]
  }
 ],
 "metadata": {
  "kernelspec": {
   "display_name": "base",
   "language": "python",
   "name": "python3"
  },
  "language_info": {
   "codemirror_mode": {
    "name": "ipython",
    "version": 3
   },
   "file_extension": ".py",
   "mimetype": "text/x-python",
   "name": "python",
   "nbconvert_exporter": "python",
   "pygments_lexer": "ipython3",
   "version": "3.9.13"
  },
  "orig_nbformat": 4
 },
 "nbformat": 4,
 "nbformat_minor": 2
}
